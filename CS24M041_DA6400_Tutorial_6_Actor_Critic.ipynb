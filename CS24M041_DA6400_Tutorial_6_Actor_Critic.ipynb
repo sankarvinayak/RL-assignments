{
  "cells": [
    {
      "cell_type": "markdown",
      "metadata": {
        "id": "view-in-github",
        "colab_type": "text"
      },
      "source": [
        "<a href=\"https://colab.research.google.com/github/sankarvinayak/RL-assignments/blob/main/CS24M041_DA6400_Tutorial_6_Actor_Critic.ipynb\" target=\"_parent\"><img src=\"https://colab.research.google.com/assets/colab-badge.svg\" alt=\"Open In Colab\"/></a>"
      ]
    },
    {
      "cell_type": "markdown",
      "metadata": {
        "id": "ogYi-LuvgAEQ"
      },
      "source": [
        "# Tutorial: Actor Critic Implementation\n"
      ]
    },
    {
      "cell_type": "code",
      "execution_count": 1,
      "metadata": {
        "id": "020OsgLKgJoS"
      },
      "outputs": [],
      "source": [
        "# Import required libraries\n",
        "\n",
        "import argparse\n",
        "import gymnasium as gym\n",
        "import numpy as np\n",
        "from collections import namedtuple\n",
        "\n",
        "import torch\n",
        "import torch.nn as nn\n",
        "import torch.nn.functional as F\n",
        "import torch.optim as optim\n",
        "from torch.distributions import Categorical"
      ]
    },
    {
      "cell_type": "code",
      "execution_count": 2,
      "metadata": {
        "id": "BOx__gzXgP3T"
      },
      "outputs": [],
      "source": [
        "# Set constants for training # DO NOT CHANGE\n",
        "seed = 543\n",
        "log_interval = 10\n",
        "gamma = 0.99\n",
        "\n",
        "env = gym.make('CartPole-v1')\n",
        "env.reset(seed=seed)\n",
        "torch.manual_seed(seed)\n",
        "\n",
        "SavedAction = namedtuple('SavedAction', ['log_prob', 'value'])"
      ]
    },
    {
      "cell_type": "code",
      "execution_count": 3,
      "metadata": {
        "id": "dYf6f8SBeQYo"
      },
      "outputs": [],
      "source": [
        "\n",
        "class Policy(nn.Module):\n",
        "    \"\"\"\n",
        "    implements both actor and critic in one model\n",
        "    \"\"\"\n",
        "\n",
        "    def __init__(self):\n",
        "        super(Policy, self).__init__()\n",
        "        self.affine1 = nn.Linear(4, 128)\n",
        "\n",
        "        # actor's layer\n",
        "        self.action_head = nn.Linear(128, 2)\n",
        "\n",
        "        # critic's layer\n",
        "        self.value_head = nn.Linear(128, 1)\n",
        "\n",
        "        # action & reward buffer\n",
        "        self.saved_actions = []\n",
        "        self.rewards = []\n",
        "\n",
        "    def forward(self, x):\n",
        "        \"\"\"\n",
        "        forward of both actor and critic\n",
        "        \"\"\"\n",
        "        x = F.relu(self.affine1(x))\n",
        "\n",
        "        # actor: choses action to take from state s_t\n",
        "        # by returning probability of each action\n",
        "        action_prob = F.softmax(self.action_head(x), dim=-1)\n",
        "\n",
        "        # critic: evaluates being in the state s_t\n",
        "        state_values = self.value_head(x)\n",
        "\n",
        "        # return values for both actor and critic as a tuple of 2 values:\n",
        "        # 1. a list with the probability of each action over the action space\n",
        "        # 2. the value from state s_t\n",
        "        return action_prob, state_values"
      ]
    },
    {
      "cell_type": "code",
      "execution_count": 4,
      "metadata": {
        "id": "i579JI1oi6dc"
      },
      "outputs": [],
      "source": [
        "model = Policy()\n",
        "optimizer = optim.Adam(model.parameters(), lr=3e-2)\n",
        "eps = np.finfo(np.float32).eps.item()"
      ]
    },
    {
      "cell_type": "code",
      "execution_count": 5,
      "metadata": {
        "id": "qrVieI21i3O9"
      },
      "outputs": [],
      "source": [
        "# DO NOT Modify Training Code\n",
        "\n",
        "def select_action(state):\n",
        "    state = torch.from_numpy(state).float()\n",
        "    probs, state_value = model(state)\n",
        "\n",
        "    # create a categorical distribution over the list of probabilities of actions\n",
        "    m = Categorical(probs)\n",
        "\n",
        "    # and sample an action using the distribution\n",
        "    action = m.sample()\n",
        "\n",
        "    # save to action buffer\n",
        "    model.saved_actions.append(SavedAction(m.log_prob(action), state_value))\n",
        "\n",
        "    # the action to take (left or right)\n",
        "    return action.item()\n",
        "\n",
        "\n",
        "def finish_episode():\n",
        "    \"\"\"\n",
        "    Training code. Calculates actor and critic loss and performs backprop.\n",
        "    \"\"\"\n",
        "    R = 0\n",
        "    saved_actions = model.saved_actions\n",
        "    policy_losses = []  # list to save actor (policy) loss\n",
        "    value_losses = []  # list to save critic (value) loss\n",
        "    returns = []  # list to save the true values\n",
        "\n",
        "    # calculate the true value using rewards returned from the environment\n",
        "    for r in model.rewards[::-1]:\n",
        "        # calculate the discounted value\n",
        "        R = r + gamma * R\n",
        "        returns.insert(0, R)\n",
        "\n",
        "    returns = torch.tensor(returns)\n",
        "    returns = (returns - returns.mean()) / (returns.std() + eps)\n",
        "\n",
        "    for (log_prob, value), R in zip(saved_actions, returns):\n",
        "        advantage = R - value.item()\n",
        "\n",
        "        # calculate actor (policy) loss\n",
        "        policy_losses.append(-log_prob * advantage)\n",
        "\n",
        "        # calculate critic (value) loss using L1 smooth loss\n",
        "        value_losses.append(F.smooth_l1_loss(value, torch.tensor([R])))\n",
        "\n",
        "    # reset gradients\n",
        "    optimizer.zero_grad()\n",
        "\n",
        "    # sum up all the values of policy_losses and value_losses\n",
        "    loss = torch.stack(policy_losses).sum() + torch.stack(value_losses).sum()\n",
        "\n",
        "    # perform backprop\n",
        "    loss.backward()\n",
        "    optimizer.step()\n",
        "\n",
        "    # reset rewards and action buffer\n",
        "    del model.rewards[:]\n",
        "    del model.saved_actions[:]\n",
        "\n",
        "\n",
        "def train():\n",
        "    running_reward = 10\n",
        "\n",
        "    # run infinitely many episodes\n",
        "    for i_episode in range(2000):\n",
        "\n",
        "        # reset environment and episode reward\n",
        "        state = env.reset()[0]\n",
        "        ep_reward = 0\n",
        "\n",
        "        # for each episode, only run 9999 steps so that we don't\n",
        "        # infinite loop while learning\n",
        "        for t in range(1, 10000):\n",
        "\n",
        "            # select action from policy\n",
        "            action = select_action(state)\n",
        "\n",
        "            # take the action\n",
        "            state, reward, done, truncated, _ = env.step(action)\n",
        "\n",
        "            model.rewards.append(reward)\n",
        "            ep_reward += reward\n",
        "            if done:\n",
        "                break\n",
        "\n",
        "        # update cumulative reward\n",
        "        running_reward = 0.05 * ep_reward + (1 - 0.05) * running_reward\n",
        "\n",
        "        # perform backprop\n",
        "        finish_episode()\n",
        "\n",
        "        # log results\n",
        "        if i_episode % log_interval == 0:\n",
        "            print('Episode {}\\tLast reward: {:.2f}\\tAverage reward: {:.2f}'.format(\n",
        "                  i_episode, ep_reward, running_reward))\n",
        "\n",
        "        # check if we have \"solved\" the cart pole problem\n",
        "        if running_reward > env.spec.reward_threshold:\n",
        "            print(\"Solved! Running reward is now {} and \"\n",
        "                  \"the last episode runs to {} time steps!\".format(running_reward, t))\n",
        "            break"
      ]
    },
    {
      "cell_type": "code",
      "execution_count": 6,
      "metadata": {
        "colab": {
          "base_uri": "https://localhost:8080/"
        },
        "id": "jUT3maPMlGi2",
        "outputId": "21110e2e-5054-4ecf-b88c-bbeee82d43ea"
      },
      "outputs": [
        {
          "output_type": "stream",
          "name": "stdout",
          "text": [
            "Episode 0\tLast reward: 22.00\tAverage reward: 10.60\n",
            "Episode 10\tLast reward: 28.00\tAverage reward: 16.78\n",
            "Episode 20\tLast reward: 42.00\tAverage reward: 33.66\n",
            "Episode 30\tLast reward: 21.00\tAverage reward: 31.73\n",
            "Episode 40\tLast reward: 26.00\tAverage reward: 29.00\n",
            "Episode 50\tLast reward: 150.00\tAverage reward: 64.74\n",
            "Episode 60\tLast reward: 86.00\tAverage reward: 88.06\n",
            "Episode 70\tLast reward: 209.00\tAverage reward: 118.08\n",
            "Episode 80\tLast reward: 63.00\tAverage reward: 169.06\n",
            "Episode 90\tLast reward: 36.00\tAverage reward: 159.00\n",
            "Episode 100\tLast reward: 199.00\tAverage reward: 175.59\n",
            "Episode 110\tLast reward: 288.00\tAverage reward: 209.42\n",
            "Episode 120\tLast reward: 268.00\tAverage reward: 260.10\n",
            "Episode 130\tLast reward: 320.00\tAverage reward: 399.67\n",
            "Episode 140\tLast reward: 191.00\tAverage reward: 296.83\n",
            "Episode 150\tLast reward: 184.00\tAverage reward: 254.95\n",
            "Episode 160\tLast reward: 183.00\tAverage reward: 208.01\n",
            "Episode 170\tLast reward: 584.00\tAverage reward: 288.11\n",
            "Solved! Running reward is now 840.3643043227373 and the last episode runs to 9999 time steps!\n"
          ]
        }
      ],
      "source": [
        "train()"
      ]
    },
    {
      "cell_type": "markdown",
      "metadata": {
        "id": "lA2T0_22kK3g"
      },
      "source": [
        "# TODO: Write a policy class similar to the above, without using shared features for the actor and critic and compare their performance.\n"
      ]
    },
    {
      "cell_type": "code",
      "execution_count": 7,
      "metadata": {
        "id": "qkE5fjLieZVg"
      },
      "outputs": [],
      "source": [
        "\n",
        "# TODO: Write a policy class similar to the above, without using shared features for the actor and critic and compare their\n",
        "# performance.\n",
        "\n",
        "class UnsharedPolicy(nn.Module):\n",
        "    def __init__(self):\n",
        "        super(UnsharedPolicy, self).__init__()\n",
        "        # TODO: Fill in.\n",
        "        hidden_size = 128\n",
        "        # Actor network\n",
        "        self.actor_affine1 =nn.Linear(4,hidden_size)\n",
        "        self.action_head =nn.Linear(hidden_size,2)\n",
        "\n",
        "        # Critic network\n",
        "        self.critic_affine1 =nn.Linear(4,hidden_size)\n",
        "        self.value_head =nn.Linear(hidden_size,1)\n",
        "\n",
        "        self.saved_actions = []\n",
        "        self.rewards = []\n",
        "\n",
        "    def forward(self, x):\n",
        "        # TODO: Fill in. For your networks, use the same hidden_size for the layers as the previous policy, that is 128.\n",
        "        # Actor forward pass\n",
        "        actor_x =F.relu(self.actor_affine1(x))\n",
        "        action_prob =F.softmax(self.action_head(actor_x), dim=-1)\n",
        "\n",
        "        # Critic forward pass\n",
        "        critic_x =F.relu(self.critic_affine1(x))\n",
        "        state_values =self.value_head(critic_x)\n",
        "        # return values for both actor and critic as a tuple of 2 values:\n",
        "        # 1. A list with the probability of each action over the action space\n",
        "        # 2. The value from state s_t\n",
        "        return action_prob, state_values\n",
        "\n"
      ]
    },
    {
      "cell_type": "code",
      "execution_count": 8,
      "metadata": {
        "id": "l6UxnVPkkWkH",
        "colab": {
          "base_uri": "https://localhost:8080/"
        },
        "outputId": "8a1ac007-9d7d-4c3d-c395-497ef02428c7"
      },
      "outputs": [
        {
          "output_type": "stream",
          "name": "stdout",
          "text": [
            "Episode 0\tLast reward: 88.00\tAverage reward: 13.90\n",
            "Episode 10\tLast reward: 13.00\tAverage reward: 13.18\n",
            "Episode 20\tLast reward: 9.00\tAverage reward: 11.88\n",
            "Episode 30\tLast reward: 9.00\tAverage reward: 10.93\n",
            "Episode 40\tLast reward: 10.00\tAverage reward: 10.26\n",
            "Episode 50\tLast reward: 10.00\tAverage reward: 9.95\n",
            "Episode 60\tLast reward: 9.00\tAverage reward: 9.59\n",
            "Episode 70\tLast reward: 10.00\tAverage reward: 9.46\n",
            "Episode 80\tLast reward: 10.00\tAverage reward: 9.43\n",
            "Episode 90\tLast reward: 9.00\tAverage reward: 9.44\n",
            "Episode 100\tLast reward: 9.00\tAverage reward: 9.25\n",
            "Episode 110\tLast reward: 10.00\tAverage reward: 9.40\n",
            "Episode 120\tLast reward: 10.00\tAverage reward: 9.57\n",
            "Episode 130\tLast reward: 10.00\tAverage reward: 9.72\n",
            "Episode 140\tLast reward: 48.00\tAverage reward: 16.60\n",
            "Episode 150\tLast reward: 49.00\tAverage reward: 35.68\n",
            "Episode 160\tLast reward: 108.00\tAverage reward: 48.75\n",
            "Episode 170\tLast reward: 57.00\tAverage reward: 51.77\n",
            "Episode 180\tLast reward: 50.00\tAverage reward: 61.49\n",
            "Episode 190\tLast reward: 34.00\tAverage reward: 49.86\n",
            "Episode 200\tLast reward: 38.00\tAverage reward: 42.59\n",
            "Episode 210\tLast reward: 96.00\tAverage reward: 50.03\n",
            "Episode 220\tLast reward: 252.00\tAverage reward: 83.54\n",
            "Episode 230\tLast reward: 131.00\tAverage reward: 110.42\n",
            "Episode 240\tLast reward: 118.00\tAverage reward: 114.09\n",
            "Episode 250\tLast reward: 101.00\tAverage reward: 108.85\n",
            "Episode 260\tLast reward: 103.00\tAverage reward: 103.18\n",
            "Episode 270\tLast reward: 106.00\tAverage reward: 104.48\n",
            "Episode 280\tLast reward: 107.00\tAverage reward: 106.80\n",
            "Episode 290\tLast reward: 116.00\tAverage reward: 109.53\n",
            "Episode 300\tLast reward: 121.00\tAverage reward: 112.49\n",
            "Episode 310\tLast reward: 127.00\tAverage reward: 116.55\n",
            "Episode 320\tLast reward: 151.00\tAverage reward: 127.14\n",
            "Episode 330\tLast reward: 215.00\tAverage reward: 149.84\n",
            "Episode 340\tLast reward: 349.00\tAverage reward: 205.63\n",
            "Episode 350\tLast reward: 215.00\tAverage reward: 287.36\n",
            "Episode 360\tLast reward: 221.00\tAverage reward: 260.58\n",
            "Episode 370\tLast reward: 279.00\tAverage reward: 265.02\n",
            "Episode 380\tLast reward: 1025.00\tAverage reward: 421.29\n",
            "Solved! Running reward is now 528.9764217859599 and the last episode runs to 2575 time steps!\n",
            "CPU times: user 54.9 s, sys: 98.6 ms, total: 55 s\n",
            "Wall time: 55.7 s\n"
          ]
        }
      ],
      "source": [
        "%%time\n",
        "model = UnsharedPolicy()\n",
        "optimizer = optim.Adam(model.parameters(), lr=3e-2)\n",
        "eps = np.finfo(np.float32).eps.item()\n",
        "train()"
      ]
    },
    {
      "cell_type": "code",
      "source": [
        "weight_difference = torch.norm(model.actor_affine1.weight - model.critic_affine1.weight)\n",
        "print(\"Weight difference:\", weight_difference.item())\n",
        "\n",
        "# for a trained netowrk difference in weights of actor and critic"
      ],
      "metadata": {
        "colab": {
          "base_uri": "https://localhost:8080/"
        },
        "id": "ae2f1pUzeU1f",
        "outputId": "a3c59929-b301-4a22-a50a-2e87ca8962d9"
      },
      "execution_count": 14,
      "outputs": [
        {
          "output_type": "stream",
          "name": "stdout",
          "text": [
            "Weight difference: 20.67447280883789\n"
          ]
        }
      ]
    },
    {
      "cell_type": "code",
      "source": [
        "x=torch.rand(1,4)"
      ],
      "metadata": {
        "id": "GJZ4Tj2lfGVq"
      },
      "execution_count": 9,
      "outputs": []
    },
    {
      "cell_type": "code",
      "source": [
        "actor=model.actor_affine1(x)\n",
        "critic=model.critic_affine1(x)"
      ],
      "metadata": {
        "id": "rmajN-PJf_yR"
      },
      "execution_count": 12,
      "outputs": []
    },
    {
      "cell_type": "code",
      "source": [
        "F.cosine_similarity(actor, critic, dim=-1)\n",
        "\n",
        "#cosine similarity of the hidden repreentaiton of state between actor and critic for a random value input"
      ],
      "metadata": {
        "colab": {
          "base_uri": "https://localhost:8080/"
        },
        "id": "P8f5Td8ogGbj",
        "outputId": "e11ac179-b987-4fde-fe5a-67501dd9e48c"
      },
      "execution_count": 13,
      "outputs": [
        {
          "output_type": "execute_result",
          "data": {
            "text/plain": [
              "tensor([0.1842], grad_fn=<SumBackward1>)"
            ]
          },
          "metadata": {},
          "execution_count": 13
        }
      ]
    },
    {
      "cell_type": "code",
      "source": [
        "np.array([1,2,3,4])"
      ],
      "metadata": {
        "colab": {
          "base_uri": "https://localhost:8080/"
        },
        "id": "ApVJHOsDkagJ",
        "outputId": "e7237c17-6af4-43e7-ca9c-4563f8f9aff1"
      },
      "execution_count": 22,
      "outputs": [
        {
          "output_type": "execute_result",
          "data": {
            "text/plain": [
              "array([1, 2, 3, 4])"
            ]
          },
          "metadata": {},
          "execution_count": 22
        }
      ]
    },
    {
      "cell_type": "code",
      "source": [
        "env.reset()"
      ],
      "metadata": {
        "colab": {
          "base_uri": "https://localhost:8080/"
        },
        "id": "FYLu97jkkpuv",
        "outputId": "c017b857-6f11-4d4d-fd9f-5369c7ed4ce9"
      },
      "execution_count": 23,
      "outputs": [
        {
          "output_type": "execute_result",
          "data": {
            "text/plain": [
              "(array([-0.03684774, -0.03309242,  0.02791581,  0.03389481], dtype=float32),\n",
              " {})"
            ]
          },
          "metadata": {},
          "execution_count": 23
        }
      ]
    },
    {
      "cell_type": "code",
      "source": [
        "x,_=env.reset()\n",
        "x=torch.from_numpy(x).float()"
      ],
      "metadata": {
        "id": "Kxj4DLwOjGUj"
      },
      "execution_count": 24,
      "outputs": []
    },
    {
      "cell_type": "code",
      "source": [
        "actor=model.actor_affine1(x)\n",
        "critic=model.critic_affine1(x)\n",
        "F.cosine_similarity(actor, critic, dim=-1)\n",
        "#cosine similarity of the hidden repreentaiton of state between actor and critic for a value in the valid range as input"
      ],
      "metadata": {
        "colab": {
          "base_uri": "https://localhost:8080/"
        },
        "id": "RqG6Apt_jGRu",
        "outputId": "11d8dd61-e557-406a-85fc-2e5f30651214"
      },
      "execution_count": 25,
      "outputs": [
        {
          "output_type": "execute_result",
          "data": {
            "text/plain": [
              "tensor(0.4685, grad_fn=<SumBackward1>)"
            ]
          },
          "metadata": {},
          "execution_count": 25
        }
      ]
    },
    {
      "cell_type": "code",
      "source": [
        "model=UnsharedPolicy()\n",
        "weight_difference = torch.norm(model.actor_affine1.weight - model.critic_affine1.weight)\n",
        "print(\"Weight difference:\", weight_difference.item())\n",
        "# for a randomly initialized netowrk difference in weights of actor and critic"
      ],
      "metadata": {
        "colab": {
          "base_uri": "https://localhost:8080/"
        },
        "id": "hngCgk86ehpX",
        "outputId": "e4857452-b0b7-44d4-8561-ca2b5b5e1b88"
      },
      "execution_count": 15,
      "outputs": [
        {
          "output_type": "stream",
          "name": "stdout",
          "text": [
            "Weight difference: 9.285624504089355\n"
          ]
        }
      ]
    },
    {
      "cell_type": "markdown",
      "source": [
        "## Observarions\n",
        "- The initial values of single network is high compared to that of two netowork\n",
        "- There is much more varience in the last reward obtained in single network which may due to the double update performed one from policy and one from value\n",
        "- The averge reward of Unshared network initially decrease and then increase which may be due to the changing of policy and value during traing not sharing the prameters\n",
        "- The shared network the average reward is increasing almost monotolically as the actor and critic are getting updated by each other\n",
        "- It is not necessasy that is representations learned in the netowkr are similar for actor and critic as the cosine similarity for a random value for a random vector is 0.18 which is queit low and for a value in range of environment of 0.46 shows moderate corelation between the representation of both netowrok"
      ],
      "metadata": {
        "id": "ExJdzgcYdpkW"
      }
    },
    {
      "cell_type": "code",
      "execution_count": null,
      "metadata": {
        "id": "FG2ZpUfdkdif"
      },
      "outputs": [],
      "source": []
    }
  ],
  "metadata": {
    "colab": {
      "provenance": [],
      "include_colab_link": true
    },
    "kernelspec": {
      "display_name": "Python 3",
      "name": "python3"
    },
    "language_info": {
      "codemirror_mode": {
        "name": "ipython",
        "version": 3
      },
      "file_extension": ".py",
      "mimetype": "text/x-python",
      "name": "python",
      "nbconvert_exporter": "python",
      "pygments_lexer": "ipython3",
      "version": "3.11.7"
    }
  },
  "nbformat": 4,
  "nbformat_minor": 0
}